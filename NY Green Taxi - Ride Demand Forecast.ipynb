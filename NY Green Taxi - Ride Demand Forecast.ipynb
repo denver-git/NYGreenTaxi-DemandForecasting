{
 "cells": [
  {
   "cell_type": "markdown",
   "metadata": {},
   "source": [
    "## In this notebook, we will analyze NY Green Taxi Data for the month of February 2016, and build a Machine Learning Model to forecast the number of trips"
   ]
  },
  {
   "cell_type": "markdown",
   "metadata": {},
   "source": [
    "##### Q1. Download the data, load it into python. Report the number of rows and columns that you've loaded."
   ]
  },
  {
   "cell_type": "code",
   "execution_count": 78,
   "metadata": {},
   "outputs": [],
   "source": [
    "# Importing relevant libraries \n",
    "import pandas as pd\n",
    "import numpy as np\n",
    "import datetime as dt\n",
    "from statsmodels.graphics.tsaplots import plot_acf\n",
    "from statsmodels.graphics.tsaplots import plot_pacf\n",
    "from statsmodels.tsa.arima_model import ARIMA\n",
    "from sklearn.metrics import mean_squared_error\n",
    "import geopandas as gpd\n",
    "import geopy\n",
    "from geopy.geocoders import Nominatim\n",
    "from geopy.extra.rate_limiter import RateLimiter\n",
    "from statsmodels.tsa.stattools import adfuller\n",
    "import matplotlib.pyplot as plt\n",
    "import seaborn as sns\n",
    "%matplotlib inline"
   ]
  },
  {
   "cell_type": "code",
   "execution_count": 79,
   "metadata": {},
   "outputs": [
    {
     "data": {
      "text/html": [
       "<div>\n",
       "<style scoped>\n",
       "    .dataframe tbody tr th:only-of-type {\n",
       "        vertical-align: middle;\n",
       "    }\n",
       "\n",
       "    .dataframe tbody tr th {\n",
       "        vertical-align: top;\n",
       "    }\n",
       "\n",
       "    .dataframe thead th {\n",
       "        text-align: right;\n",
       "    }\n",
       "</style>\n",
       "<table border=\"1\" class=\"dataframe\">\n",
       "  <thead>\n",
       "    <tr style=\"text-align: right;\">\n",
       "      <th></th>\n",
       "      <th>VendorID</th>\n",
       "      <th>lpep_pickup_datetime</th>\n",
       "      <th>Lpep_dropoff_datetime</th>\n",
       "      <th>Store_and_fwd_flag</th>\n",
       "      <th>RateCodeID</th>\n",
       "      <th>Pickup_longitude</th>\n",
       "      <th>Pickup_latitude</th>\n",
       "      <th>Dropoff_longitude</th>\n",
       "      <th>Dropoff_latitude</th>\n",
       "      <th>Passenger_count</th>\n",
       "      <th>...</th>\n",
       "      <th>Fare_amount</th>\n",
       "      <th>Extra</th>\n",
       "      <th>MTA_tax</th>\n",
       "      <th>Tip_amount</th>\n",
       "      <th>Tolls_amount</th>\n",
       "      <th>Ehail_fee</th>\n",
       "      <th>improvement_surcharge</th>\n",
       "      <th>Total_amount</th>\n",
       "      <th>Payment_type</th>\n",
       "      <th>Trip_type</th>\n",
       "    </tr>\n",
       "  </thead>\n",
       "  <tbody>\n",
       "    <tr>\n",
       "      <th>0</th>\n",
       "      <td>2</td>\n",
       "      <td>2016-02-01 00:00:01</td>\n",
       "      <td>2016-02-01 00:10:06</td>\n",
       "      <td>N</td>\n",
       "      <td>1</td>\n",
       "      <td>-73.939018</td>\n",
       "      <td>40.805214</td>\n",
       "      <td>-73.972534</td>\n",
       "      <td>40.785885</td>\n",
       "      <td>1</td>\n",
       "      <td>...</td>\n",
       "      <td>10.5</td>\n",
       "      <td>0.5</td>\n",
       "      <td>0.5</td>\n",
       "      <td>0.00</td>\n",
       "      <td>0.0</td>\n",
       "      <td>NaN</td>\n",
       "      <td>0.3</td>\n",
       "      <td>11.80</td>\n",
       "      <td>2</td>\n",
       "      <td>1.0</td>\n",
       "    </tr>\n",
       "    <tr>\n",
       "      <th>1</th>\n",
       "      <td>2</td>\n",
       "      <td>2016-02-01 00:01:33</td>\n",
       "      <td>2016-02-01 00:20:13</td>\n",
       "      <td>N</td>\n",
       "      <td>1</td>\n",
       "      <td>-73.891495</td>\n",
       "      <td>40.746651</td>\n",
       "      <td>-73.890877</td>\n",
       "      <td>40.743896</td>\n",
       "      <td>1</td>\n",
       "      <td>...</td>\n",
       "      <td>13.0</td>\n",
       "      <td>0.5</td>\n",
       "      <td>0.5</td>\n",
       "      <td>0.00</td>\n",
       "      <td>0.0</td>\n",
       "      <td>NaN</td>\n",
       "      <td>0.3</td>\n",
       "      <td>14.30</td>\n",
       "      <td>2</td>\n",
       "      <td>1.0</td>\n",
       "    </tr>\n",
       "    <tr>\n",
       "      <th>2</th>\n",
       "      <td>2</td>\n",
       "      <td>2016-02-01 00:03:46</td>\n",
       "      <td>2016-02-01 00:21:04</td>\n",
       "      <td>N</td>\n",
       "      <td>1</td>\n",
       "      <td>-73.983780</td>\n",
       "      <td>40.676132</td>\n",
       "      <td>-73.956978</td>\n",
       "      <td>40.718327</td>\n",
       "      <td>1</td>\n",
       "      <td>...</td>\n",
       "      <td>17.5</td>\n",
       "      <td>0.5</td>\n",
       "      <td>0.5</td>\n",
       "      <td>3.76</td>\n",
       "      <td>0.0</td>\n",
       "      <td>NaN</td>\n",
       "      <td>0.3</td>\n",
       "      <td>22.56</td>\n",
       "      <td>1</td>\n",
       "      <td>1.0</td>\n",
       "    </tr>\n",
       "    <tr>\n",
       "      <th>3</th>\n",
       "      <td>2</td>\n",
       "      <td>2016-02-01 00:00:05</td>\n",
       "      <td>2016-02-01 00:06:48</td>\n",
       "      <td>N</td>\n",
       "      <td>1</td>\n",
       "      <td>-73.807518</td>\n",
       "      <td>40.700375</td>\n",
       "      <td>-73.831657</td>\n",
       "      <td>40.705978</td>\n",
       "      <td>1</td>\n",
       "      <td>...</td>\n",
       "      <td>8.0</td>\n",
       "      <td>0.5</td>\n",
       "      <td>0.5</td>\n",
       "      <td>0.00</td>\n",
       "      <td>0.0</td>\n",
       "      <td>NaN</td>\n",
       "      <td>0.3</td>\n",
       "      <td>9.30</td>\n",
       "      <td>2</td>\n",
       "      <td>1.0</td>\n",
       "    </tr>\n",
       "    <tr>\n",
       "      <th>4</th>\n",
       "      <td>2</td>\n",
       "      <td>2016-02-01 00:06:20</td>\n",
       "      <td>2016-02-01 00:08:47</td>\n",
       "      <td>N</td>\n",
       "      <td>1</td>\n",
       "      <td>-73.903961</td>\n",
       "      <td>40.744934</td>\n",
       "      <td>-73.900009</td>\n",
       "      <td>40.733601</td>\n",
       "      <td>5</td>\n",
       "      <td>...</td>\n",
       "      <td>5.0</td>\n",
       "      <td>0.5</td>\n",
       "      <td>0.5</td>\n",
       "      <td>0.00</td>\n",
       "      <td>0.0</td>\n",
       "      <td>NaN</td>\n",
       "      <td>0.3</td>\n",
       "      <td>6.30</td>\n",
       "      <td>2</td>\n",
       "      <td>1.0</td>\n",
       "    </tr>\n",
       "  </tbody>\n",
       "</table>\n",
       "<p>5 rows × 21 columns</p>\n",
       "</div>"
      ],
      "text/plain": [
       "   VendorID lpep_pickup_datetime Lpep_dropoff_datetime Store_and_fwd_flag  \\\n",
       "0         2  2016-02-01 00:00:01   2016-02-01 00:10:06                  N   \n",
       "1         2  2016-02-01 00:01:33   2016-02-01 00:20:13                  N   \n",
       "2         2  2016-02-01 00:03:46   2016-02-01 00:21:04                  N   \n",
       "3         2  2016-02-01 00:00:05   2016-02-01 00:06:48                  N   \n",
       "4         2  2016-02-01 00:06:20   2016-02-01 00:08:47                  N   \n",
       "\n",
       "   RateCodeID  Pickup_longitude  Pickup_latitude  Dropoff_longitude  \\\n",
       "0           1        -73.939018        40.805214         -73.972534   \n",
       "1           1        -73.891495        40.746651         -73.890877   \n",
       "2           1        -73.983780        40.676132         -73.956978   \n",
       "3           1        -73.807518        40.700375         -73.831657   \n",
       "4           1        -73.903961        40.744934         -73.900009   \n",
       "\n",
       "   Dropoff_latitude  Passenger_count  ...  Fare_amount  Extra  MTA_tax  \\\n",
       "0         40.785885                1  ...         10.5    0.5      0.5   \n",
       "1         40.743896                1  ...         13.0    0.5      0.5   \n",
       "2         40.718327                1  ...         17.5    0.5      0.5   \n",
       "3         40.705978                1  ...          8.0    0.5      0.5   \n",
       "4         40.733601                5  ...          5.0    0.5      0.5   \n",
       "\n",
       "   Tip_amount  Tolls_amount  Ehail_fee  improvement_surcharge  Total_amount  \\\n",
       "0        0.00           0.0        NaN                    0.3         11.80   \n",
       "1        0.00           0.0        NaN                    0.3         14.30   \n",
       "2        3.76           0.0        NaN                    0.3         22.56   \n",
       "3        0.00           0.0        NaN                    0.3          9.30   \n",
       "4        0.00           0.0        NaN                    0.3          6.30   \n",
       "\n",
       "   Payment_type  Trip_type   \n",
       "0             2         1.0  \n",
       "1             2         1.0  \n",
       "2             1         1.0  \n",
       "3             2         1.0  \n",
       "4             2         1.0  \n",
       "\n",
       "[5 rows x 21 columns]"
      ]
     },
     "execution_count": 79,
     "metadata": {},
     "output_type": "execute_result"
    }
   ],
   "source": [
    "# Reading the data into a pandas dataframe\n",
    "taxi_df = pd.read_csv('green_tripdata_2016-02.csv') \n",
    "\n",
    "# Lets take a peek at the data\n",
    "taxi_df.head()"
   ]
  },
  {
   "cell_type": "code",
   "execution_count": 80,
   "metadata": {},
   "outputs": [
    {
     "data": {
      "text/plain": [
       "Index(['VendorID', 'lpep_pickup_datetime', 'Lpep_dropoff_datetime',\n",
       "       'Store_and_fwd_flag', 'RateCodeID', 'Pickup_longitude',\n",
       "       'Pickup_latitude', 'Dropoff_longitude', 'Dropoff_latitude',\n",
       "       'Passenger_count', 'Trip_distance', 'Fare_amount', 'Extra', 'MTA_tax',\n",
       "       'Tip_amount', 'Tolls_amount', 'Ehail_fee', 'improvement_surcharge',\n",
       "       'Total_amount', 'Payment_type', 'Trip_type '],\n",
       "      dtype='object')"
      ]
     },
     "execution_count": 80,
     "metadata": {},
     "output_type": "execute_result"
    }
   ],
   "source": [
    "# Lets have a look at the column names in this data\n",
    "taxi_df.columns"
   ]
  },
  {
   "cell_type": "code",
   "execution_count": 81,
   "metadata": {},
   "outputs": [
    {
     "name": "stdout",
     "output_type": "stream",
     "text": [
      "The data consists of 1510722 rows and 21 columns\n"
     ]
    }
   ],
   "source": [
    "# Now to Q1, lets print the number of rows and columns in the dataframe\n",
    "\n",
    "print(\"The data consists of {} rows and {} columns\" .format(taxi_df.shape[0], taxi_df.shape[1]))"
   ]
  },
  {
   "cell_type": "markdown",
   "metadata": {},
   "source": [
    "##### Q2. Visualize trip distance by time of day in any way you see fit, any observations?"
   ]
  },
  {
   "cell_type": "code",
   "execution_count": 82,
   "metadata": {},
   "outputs": [
    {
     "data": {
      "text/html": [
       "<div>\n",
       "<style scoped>\n",
       "    .dataframe tbody tr th:only-of-type {\n",
       "        vertical-align: middle;\n",
       "    }\n",
       "\n",
       "    .dataframe tbody tr th {\n",
       "        vertical-align: top;\n",
       "    }\n",
       "\n",
       "    .dataframe thead th {\n",
       "        text-align: right;\n",
       "    }\n",
       "</style>\n",
       "<table border=\"1\" class=\"dataframe\">\n",
       "  <thead>\n",
       "    <tr style=\"text-align: right;\">\n",
       "      <th></th>\n",
       "      <th>VendorID</th>\n",
       "      <th>lpep_pickup_datetime</th>\n",
       "      <th>Lpep_dropoff_datetime</th>\n",
       "      <th>Store_and_fwd_flag</th>\n",
       "      <th>RateCodeID</th>\n",
       "      <th>Pickup_longitude</th>\n",
       "      <th>Pickup_latitude</th>\n",
       "      <th>Dropoff_longitude</th>\n",
       "      <th>Dropoff_latitude</th>\n",
       "      <th>Passenger_count</th>\n",
       "      <th>...</th>\n",
       "      <th>Tolls_amount</th>\n",
       "      <th>Ehail_fee</th>\n",
       "      <th>improvement_surcharge</th>\n",
       "      <th>Total_amount</th>\n",
       "      <th>Payment_type</th>\n",
       "      <th>Trip_type</th>\n",
       "      <th>Pickup_DateTime</th>\n",
       "      <th>Dropoff_DateTime</th>\n",
       "      <th>Pickup_Hour</th>\n",
       "      <th>DayOfMonth</th>\n",
       "    </tr>\n",
       "  </thead>\n",
       "  <tbody>\n",
       "    <tr>\n",
       "      <th>0</th>\n",
       "      <td>2</td>\n",
       "      <td>2016-02-01 00:00:01</td>\n",
       "      <td>2016-02-01 00:10:06</td>\n",
       "      <td>N</td>\n",
       "      <td>1</td>\n",
       "      <td>-73.939018</td>\n",
       "      <td>40.805214</td>\n",
       "      <td>-73.972534</td>\n",
       "      <td>40.785885</td>\n",
       "      <td>1</td>\n",
       "      <td>...</td>\n",
       "      <td>0.0</td>\n",
       "      <td>NaN</td>\n",
       "      <td>0.3</td>\n",
       "      <td>11.80</td>\n",
       "      <td>2</td>\n",
       "      <td>1.0</td>\n",
       "      <td>2016-02-01 00:00:01</td>\n",
       "      <td>2016-02-01 00:10:06</td>\n",
       "      <td>0</td>\n",
       "      <td>01</td>\n",
       "    </tr>\n",
       "    <tr>\n",
       "      <th>1</th>\n",
       "      <td>2</td>\n",
       "      <td>2016-02-01 00:01:33</td>\n",
       "      <td>2016-02-01 00:20:13</td>\n",
       "      <td>N</td>\n",
       "      <td>1</td>\n",
       "      <td>-73.891495</td>\n",
       "      <td>40.746651</td>\n",
       "      <td>-73.890877</td>\n",
       "      <td>40.743896</td>\n",
       "      <td>1</td>\n",
       "      <td>...</td>\n",
       "      <td>0.0</td>\n",
       "      <td>NaN</td>\n",
       "      <td>0.3</td>\n",
       "      <td>14.30</td>\n",
       "      <td>2</td>\n",
       "      <td>1.0</td>\n",
       "      <td>2016-02-01 00:01:33</td>\n",
       "      <td>2016-02-01 00:20:13</td>\n",
       "      <td>0</td>\n",
       "      <td>01</td>\n",
       "    </tr>\n",
       "    <tr>\n",
       "      <th>2</th>\n",
       "      <td>2</td>\n",
       "      <td>2016-02-01 00:03:46</td>\n",
       "      <td>2016-02-01 00:21:04</td>\n",
       "      <td>N</td>\n",
       "      <td>1</td>\n",
       "      <td>-73.983780</td>\n",
       "      <td>40.676132</td>\n",
       "      <td>-73.956978</td>\n",
       "      <td>40.718327</td>\n",
       "      <td>1</td>\n",
       "      <td>...</td>\n",
       "      <td>0.0</td>\n",
       "      <td>NaN</td>\n",
       "      <td>0.3</td>\n",
       "      <td>22.56</td>\n",
       "      <td>1</td>\n",
       "      <td>1.0</td>\n",
       "      <td>2016-02-01 00:03:46</td>\n",
       "      <td>2016-02-01 00:21:04</td>\n",
       "      <td>0</td>\n",
       "      <td>01</td>\n",
       "    </tr>\n",
       "    <tr>\n",
       "      <th>3</th>\n",
       "      <td>2</td>\n",
       "      <td>2016-02-01 00:00:05</td>\n",
       "      <td>2016-02-01 00:06:48</td>\n",
       "      <td>N</td>\n",
       "      <td>1</td>\n",
       "      <td>-73.807518</td>\n",
       "      <td>40.700375</td>\n",
       "      <td>-73.831657</td>\n",
       "      <td>40.705978</td>\n",
       "      <td>1</td>\n",
       "      <td>...</td>\n",
       "      <td>0.0</td>\n",
       "      <td>NaN</td>\n",
       "      <td>0.3</td>\n",
       "      <td>9.30</td>\n",
       "      <td>2</td>\n",
       "      <td>1.0</td>\n",
       "      <td>2016-02-01 00:00:05</td>\n",
       "      <td>2016-02-01 00:06:48</td>\n",
       "      <td>0</td>\n",
       "      <td>01</td>\n",
       "    </tr>\n",
       "    <tr>\n",
       "      <th>4</th>\n",
       "      <td>2</td>\n",
       "      <td>2016-02-01 00:06:20</td>\n",
       "      <td>2016-02-01 00:08:47</td>\n",
       "      <td>N</td>\n",
       "      <td>1</td>\n",
       "      <td>-73.903961</td>\n",
       "      <td>40.744934</td>\n",
       "      <td>-73.900009</td>\n",
       "      <td>40.733601</td>\n",
       "      <td>5</td>\n",
       "      <td>...</td>\n",
       "      <td>0.0</td>\n",
       "      <td>NaN</td>\n",
       "      <td>0.3</td>\n",
       "      <td>6.30</td>\n",
       "      <td>2</td>\n",
       "      <td>1.0</td>\n",
       "      <td>2016-02-01 00:06:20</td>\n",
       "      <td>2016-02-01 00:08:47</td>\n",
       "      <td>0</td>\n",
       "      <td>01</td>\n",
       "    </tr>\n",
       "  </tbody>\n",
       "</table>\n",
       "<p>5 rows × 25 columns</p>\n",
       "</div>"
      ],
      "text/plain": [
       "   VendorID lpep_pickup_datetime Lpep_dropoff_datetime Store_and_fwd_flag  \\\n",
       "0         2  2016-02-01 00:00:01   2016-02-01 00:10:06                  N   \n",
       "1         2  2016-02-01 00:01:33   2016-02-01 00:20:13                  N   \n",
       "2         2  2016-02-01 00:03:46   2016-02-01 00:21:04                  N   \n",
       "3         2  2016-02-01 00:00:05   2016-02-01 00:06:48                  N   \n",
       "4         2  2016-02-01 00:06:20   2016-02-01 00:08:47                  N   \n",
       "\n",
       "   RateCodeID  Pickup_longitude  Pickup_latitude  Dropoff_longitude  \\\n",
       "0           1        -73.939018        40.805214         -73.972534   \n",
       "1           1        -73.891495        40.746651         -73.890877   \n",
       "2           1        -73.983780        40.676132         -73.956978   \n",
       "3           1        -73.807518        40.700375         -73.831657   \n",
       "4           1        -73.903961        40.744934         -73.900009   \n",
       "\n",
       "   Dropoff_latitude  Passenger_count  ...  Tolls_amount  Ehail_fee  \\\n",
       "0         40.785885                1  ...           0.0        NaN   \n",
       "1         40.743896                1  ...           0.0        NaN   \n",
       "2         40.718327                1  ...           0.0        NaN   \n",
       "3         40.705978                1  ...           0.0        NaN   \n",
       "4         40.733601                5  ...           0.0        NaN   \n",
       "\n",
       "   improvement_surcharge  Total_amount  Payment_type  Trip_type   \\\n",
       "0                    0.3         11.80             2         1.0   \n",
       "1                    0.3         14.30             2         1.0   \n",
       "2                    0.3         22.56             1         1.0   \n",
       "3                    0.3          9.30             2         1.0   \n",
       "4                    0.3          6.30             2         1.0   \n",
       "\n",
       "      Pickup_DateTime    Dropoff_DateTime  Pickup_Hour  DayOfMonth  \n",
       "0 2016-02-01 00:00:01 2016-02-01 00:10:06            0          01  \n",
       "1 2016-02-01 00:01:33 2016-02-01 00:20:13            0          01  \n",
       "2 2016-02-01 00:03:46 2016-02-01 00:21:04            0          01  \n",
       "3 2016-02-01 00:00:05 2016-02-01 00:06:48            0          01  \n",
       "4 2016-02-01 00:06:20 2016-02-01 00:08:47            0          01  \n",
       "\n",
       "[5 rows x 25 columns]"
      ]
     },
     "execution_count": 82,
     "metadata": {},
     "output_type": "execute_result"
    }
   ],
   "source": [
    "# In orders to get a good visual representation of how trips are distributed over the day, lets extract some key \n",
    "# info from the date columns. Before that, we convert the columns from type string to type datetime\n",
    "\n",
    "taxi_df['Pickup_DateTime'] = taxi_df.lpep_pickup_datetime.apply(lambda x:dt.datetime.strptime(x,\"%Y-%m-%d %H:%M:%S\"))\n",
    "taxi_df['Dropoff_DateTime'] = taxi_df.Lpep_dropoff_datetime.apply(lambda x:dt.datetime.strptime(x,\"%Y-%m-%d %H:%M:%S\"))\n",
    "taxi_df['Pickup_Hour'] = taxi_df['Pickup_DateTime'].apply(lambda x: x.hour)\n",
    "taxi_df['DayOfMonth'] = taxi_df['Pickup_DateTime'].apply(lambda x: x.strftime(\"%d\"))\n",
    "taxi_df.head()"
   ]
  },
  {
   "cell_type": "code",
   "execution_count": 83,
   "metadata": {},
   "outputs": [],
   "source": [
    "# Lets extract Pickup Hour and Trip Distance to plot. We will plot Pickup Hour against the \n",
    "# Mean Distance travelled for that hour\n",
    "\n",
    "distbyhour_df = taxi_df[['Pickup_Hour', 'Trip_distance']]\n",
    "distbyhour_df = distbyhour_df.groupby(['Pickup_Hour'], as_index=False).mean()"
   ]
  },
  {
   "cell_type": "code",
   "execution_count": 84,
   "metadata": {
    "scrolled": false
   },
   "outputs": [
    {
     "data": {
      "image/png": "[encoded data removed]",
      "text/plain": [
       "<Figure size 1080x576 with 1 Axes>"
      ]
     },
     "metadata": {
      "needs_background": "light"
     },
     "output_type": "display_data"
    }
   ],
   "source": [
    "# Plotting\n",
    "\n",
    "plt.figure(figsize=(15,8))\n",
    "plot = sns.lineplot(data=distbyhour_df, x='Pickup_Hour', y='Trip_distance')\n",
    "plot.set(xlabel='Hour (24 Hr Clock)', ylabel='Distance (Miles)')\n",
    "plt.grid()\n",
    "plt.title('Trip Distance by Pickup Hour')\n",
    "\n",
    "plt.show(plot)"
   ]
  },
  {
   "cell_type": "markdown",
   "metadata": {},
   "source": [
    "##### As we can see, pickups around 5am have a considerable spike in terms of distance of trip. This may be because a lot of people travel to airports at that time for work"
   ]
  },
  {
   "cell_type": "markdown",
   "metadata": {},
   "source": [
    "##### Q3. What are the most popular pickup locations on weekends vs weekdays?"
   ]
  },
  {
   "cell_type": "code",
   "execution_count": 85,
   "metadata": {},
   "outputs": [],
   "source": [
    "# To answer this question, we need a new column to tell us if a particular date falls on a weekend or weekday\n",
    "\n",
    "taxi_df['DayofWeek'] = taxi_df['Pickup_DateTime'].apply(lambda x: x.isoweekday())"
   ]
  },
  {
   "cell_type": "code",
   "execution_count": 86,
   "metadata": {},
   "outputs": [],
   "source": [
    "taxi_df['WeekdayOrWeekend'] = np.where(taxi_df['DayofWeek'].isin([1,2,3,4,5]), 'Weekday', 'Weekend')"
   ]
  },
  {
   "cell_type": "code",
   "execution_count": 87,
   "metadata": {},
   "outputs": [],
   "source": [
    "taxi_df['Pickup_latitude'] = taxi_df['Pickup_latitude'].astype(str)\n",
    "taxi_df['Pickup_longitude'] = taxi_df['Pickup_longitude'].astype(str)\n",
    "taxi_df['lat_long'] = taxi_df['Pickup_latitude'] + ', ' + taxi_df['Pickup_longitude']"
   ]
  },
  {
   "cell_type": "code",
   "execution_count": 88,
   "metadata": {},
   "outputs": [],
   "source": [
    "# Calculating the count of lat long occurances on weekdays and weekends\n",
    "popular_pickups = taxi_df[['WeekdayOrWeekend', 'lat_long']].groupby(['WeekdayOrWeekend', 'lat_long'],\n",
    "                                                 as_index=False).size().reset_index(name='count')\n",
    "popular_pickups = popular_pickups[popular_pickups['lat_long']!='0.0, 0.0']\n",
    "popular_pickups_wday = popular_pickups[popular_pickups['WeekdayOrWeekend']=='Weekday'].sort_values('count', \n",
    "                                                                                            ascending=False)\n",
    "popular_pickups_wend = popular_pickups[popular_pickups['WeekdayOrWeekend']=='Weekend'].sort_values('count', \n",
    "                                                                                            ascending=False)"
   ]
  },
  {
   "cell_type": "code",
   "execution_count": 89,
   "metadata": {},
   "outputs": [
    {
     "data": {
      "text/html": [
       "<div>\n",
       "<style scoped>\n",
       "    .dataframe tbody tr th:only-of-type {\n",
       "        vertical-align: middle;\n",
       "    }\n",
       "\n",
       "    .dataframe tbody tr th {\n",
       "        vertical-align: top;\n",
       "    }\n",
       "\n",
       "    .dataframe thead th {\n",
       "        text-align: right;\n",
       "    }\n",
       "</style>\n",
       "<table border=\"1\" class=\"dataframe\">\n",
       "  <thead>\n",
       "    <tr style=\"text-align: right;\">\n",
       "      <th></th>\n",
       "      <th>WeekdayOrWeekend</th>\n",
       "      <th>lat_long</th>\n",
       "      <th>count</th>\n",
       "    </tr>\n",
       "  </thead>\n",
       "  <tbody>\n",
       "    <tr>\n",
       "      <th>352585</th>\n",
       "      <td>Weekday</td>\n",
       "      <td>40.721351623535156, -73.84429168701173</td>\n",
       "      <td>45</td>\n",
       "    </tr>\n",
       "    <tr>\n",
       "      <th>532628</th>\n",
       "      <td>Weekday</td>\n",
       "      <td>40.76477432250977, -73.9369583129883</td>\n",
       "      <td>40</td>\n",
       "    </tr>\n",
       "    <tr>\n",
       "      <th>352378</th>\n",
       "      <td>Weekday</td>\n",
       "      <td>40.721336364746094, -73.84427642822266</td>\n",
       "      <td>38</td>\n",
       "    </tr>\n",
       "    <tr>\n",
       "      <th>352586</th>\n",
       "      <td>Weekday</td>\n",
       "      <td>40.721351623535156, -73.84429931640625</td>\n",
       "      <td>37</td>\n",
       "    </tr>\n",
       "    <tr>\n",
       "      <th>352377</th>\n",
       "      <td>Weekday</td>\n",
       "      <td>40.721336364746094, -73.84426879882812</td>\n",
       "      <td>35</td>\n",
       "    </tr>\n",
       "  </tbody>\n",
       "</table>\n",
       "</div>"
      ],
      "text/plain": [
       "       WeekdayOrWeekend                                lat_long  count\n",
       "352585          Weekday  40.721351623535156, -73.84429168701173     45\n",
       "532628          Weekday    40.76477432250977, -73.9369583129883     40\n",
       "352378          Weekday  40.721336364746094, -73.84427642822266     38\n",
       "352586          Weekday  40.721351623535156, -73.84429931640625     37\n",
       "352377          Weekday  40.721336364746094, -73.84426879882812     35"
      ]
     },
     "execution_count": 89,
     "metadata": {},
     "output_type": "execute_result"
    }
   ],
   "source": [
    "# A look at the highest lat long counts on weekdays\n",
    "popular_pickups_wday.head()"
   ]
  },
  {
   "cell_type": "code",
   "execution_count": 90,
   "metadata": {},
   "outputs": [
    {
     "data": {
      "text/html": [
       "<div>\n",
       "<style scoped>\n",
       "    .dataframe tbody tr th:only-of-type {\n",
       "        vertical-align: middle;\n",
       "    }\n",
       "\n",
       "    .dataframe tbody tr th {\n",
       "        vertical-align: top;\n",
       "    }\n",
       "\n",
       "    .dataframe thead th {\n",
       "        text-align: right;\n",
       "    }\n",
       "</style>\n",
       "<table border=\"1\" class=\"dataframe\">\n",
       "  <thead>\n",
       "    <tr style=\"text-align: right;\">\n",
       "      <th></th>\n",
       "      <th>WeekdayOrWeekend</th>\n",
       "      <th>lat_long</th>\n",
       "      <th>count</th>\n",
       "    </tr>\n",
       "  </thead>\n",
       "  <tbody>\n",
       "    <tr>\n",
       "      <th>1113030</th>\n",
       "      <td>Weekend</td>\n",
       "      <td>40.721351623535156, -73.84429931640625</td>\n",
       "      <td>17</td>\n",
       "    </tr>\n",
       "    <tr>\n",
       "      <th>1112788</th>\n",
       "      <td>Weekend</td>\n",
       "      <td>40.72132873535156, -73.84427642822266</td>\n",
       "      <td>16</td>\n",
       "    </tr>\n",
       "    <tr>\n",
       "      <th>1113189</th>\n",
       "      <td>Weekend</td>\n",
       "      <td>40.72136688232422, -73.84429931640625</td>\n",
       "      <td>15</td>\n",
       "    </tr>\n",
       "    <tr>\n",
       "      <th>1113026</th>\n",
       "      <td>Weekend</td>\n",
       "      <td>40.721351623535156, -73.84426879882812</td>\n",
       "      <td>14</td>\n",
       "    </tr>\n",
       "    <tr>\n",
       "      <th>1113029</th>\n",
       "      <td>Weekend</td>\n",
       "      <td>40.721351623535156, -73.84429168701173</td>\n",
       "      <td>14</td>\n",
       "    </tr>\n",
       "  </tbody>\n",
       "</table>\n",
       "</div>"
      ],
      "text/plain": [
       "        WeekdayOrWeekend                                lat_long  count\n",
       "1113030          Weekend  40.721351623535156, -73.84429931640625     17\n",
       "1112788          Weekend   40.72132873535156, -73.84427642822266     16\n",
       "1113189          Weekend   40.72136688232422, -73.84429931640625     15\n",
       "1113026          Weekend  40.721351623535156, -73.84426879882812     14\n",
       "1113029          Weekend  40.721351623535156, -73.84429168701173     14"
      ]
     },
     "execution_count": 90,
     "metadata": {},
     "output_type": "execute_result"
    }
   ],
   "source": [
    "# A look at the highest lat long counts on weekends\n",
    "popular_pickups_wend.head()"
   ]
  },
  {
   "cell_type": "code",
   "execution_count": 91,
   "metadata": {},
   "outputs": [],
   "source": [
    "# Lets get the adress details for the most popular pickup locations on both, weekdays and weekend\n",
    "\n",
    "locator = Nominatim(user_agent=\"myGeocoder\")\n",
    "geocode = locator.reverse\n",
    "wday_suburbs = list(popular_pickups_wday['lat_long'][0:1].apply(geocode))\n",
    "wend_suburbs = list(popular_pickups_wend['lat_long'][0:1].apply(geocode))"
   ]
  },
  {
   "cell_type": "markdown",
   "metadata": {},
   "source": [
    "##### Most popular pickup location for weekdays is:"
   ]
  },
  {
   "cell_type": "code",
   "execution_count": 92,
   "metadata": {},
   "outputs": [
    {
     "data": {
      "text/plain": [
       "{'house_number': '107-50',\n",
       " 'road': 'Queens Boulevard',\n",
       " 'suburb': 'Queens',\n",
       " 'city': 'New York',\n",
       " 'state': 'New York',\n",
       " 'postcode': '11375',\n",
       " 'country': 'United States of America',\n",
       " 'country_code': 'us'}"
      ]
     },
     "execution_count": 92,
     "metadata": {},
     "output_type": "execute_result"
    }
   ],
   "source": [
    "wday_suburbs[0].raw['address']"
   ]
  },
  {
   "cell_type": "markdown",
   "metadata": {},
   "source": [
    "##### Most popular pickup location for the weekend is:"
   ]
  },
  {
   "cell_type": "code",
   "execution_count": 93,
   "metadata": {},
   "outputs": [
    {
     "data": {
      "text/plain": [
       "{'house_number': '107-50',\n",
       " 'road': 'Queens Boulevard',\n",
       " 'suburb': 'Queens',\n",
       " 'city': 'New York',\n",
       " 'state': 'New York',\n",
       " 'postcode': '11375',\n",
       " 'country': 'United States of America',\n",
       " 'country_code': 'us'}"
      ]
     },
     "execution_count": 93,
     "metadata": {},
     "output_type": "execute_result"
    }
   ],
   "source": [
    "wend_suburbs[0].raw['address']"
   ]
  },
  {
   "cell_type": "markdown",
   "metadata": {},
   "source": [
    "##### A lat-long corresponding to Queens Boulevard in the suburb of Queens seems to be the most popular location for pickups on weekdays as well as weekends"
   ]
  },
  {
   "cell_type": "markdown",
   "metadata": {},
   "source": [
    "##### Q4. Build a model to forecast the number of trips by hour for the next 12 hours after Feb 12th 10:00 am."
   ]
  },
  {
   "cell_type": "code",
   "execution_count": 94,
   "metadata": {},
   "outputs": [
    {
     "name": "stderr",
     "output_type": "stream",
     "text": [
      "/Users/denverdias/opt/anaconda3/lib/python3.7/site-packages/ipykernel_launcher.py:4: SettingWithCopyWarning: \n",
      "A value is trying to be set on a copy of a slice from a DataFrame.\n",
      "Try using .loc[row_indexer,col_indexer] = value instead\n",
      "\n",
      "See the caveats in the documentation: https://pandas.pydata.org/pandas-docs/stable/user_guide/indexing.html#returning-a-view-versus-a-copy\n",
      "  after removing the cwd from sys.path.\n"
     ]
    }
   ],
   "source": [
    "# First, lets get our data ready for modeling. Lets split our time series data into train and test\n",
    "\n",
    "ts_df = taxi_df[['DayOfMonth', 'Pickup_Hour']]\n",
    "ts_df['DayOfMonth'] = ts_df['DayOfMonth'].astype(int)\n",
    "ts_train_df_1 = ts_df[ts_df['DayOfMonth']<12].reset_index(drop=True)\n",
    "ts_train_df_2 = ts_df[(ts_df['DayOfMonth']==12) & \n",
    "                                (ts_df['Pickup_Hour']<11)].reset_index(drop=True)\n",
    "ts_train_df = pd.concat([ts_train_df_1, ts_train_df_2])\n",
    "ts_train_df['DayOfMonth'] = ts_train_df['DayOfMonth'].astype(str)\n",
    "ts_train_df['Pickup_Hour'] = ts_train_df['Pickup_Hour'].astype(str)\n",
    "ts_train_df['DayHour'] = ts_train_df['DayOfMonth'] + ts_train_df['Pickup_Hour']\n",
    "ts_train_df = ts_train_df[['DayHour']].groupby('DayHour', as_index=False).size().reset_index(name='count')\n",
    "\n",
    "ts_test_df = ts_df[(ts_df['DayOfMonth']==12) & (ts_df['Pickup_Hour']>=11) &\n",
    "                  (ts_df['Pickup_Hour']<=22)].reset_index(drop=True)\n",
    "ts_test_df['DayOfMonth'] = ts_test_df['DayOfMonth'].astype(str)\n",
    "ts_test_df['Pickup_Hour'] = ts_test_df['Pickup_Hour'].astype(str)\n",
    "ts_test_df['DayHour'] = ts_test_df['DayOfMonth'] + ts_test_df['Pickup_Hour']\n",
    "ts_test_df = ts_test_df[['DayHour']].groupby('DayHour', as_index=False).size().reset_index(name='count')"
   ]
  },
  {
   "cell_type": "code",
   "execution_count": 95,
   "metadata": {},
   "outputs": [
    {
     "data": {
      "text/html": [
       "<div>\n",
       "<style scoped>\n",
       "    .dataframe tbody tr th:only-of-type {\n",
       "        vertical-align: middle;\n",
       "    }\n",
       "\n",
       "    .dataframe tbody tr th {\n",
       "        vertical-align: top;\n",
       "    }\n",
       "\n",
       "    .dataframe thead th {\n",
       "        text-align: right;\n",
       "    }\n",
       "</style>\n",
       "<table border=\"1\" class=\"dataframe\">\n",
       "  <thead>\n",
       "    <tr style=\"text-align: right;\">\n",
       "      <th></th>\n",
       "      <th>DayHour</th>\n",
       "      <th>count</th>\n",
       "    </tr>\n",
       "  </thead>\n",
       "  <tbody>\n",
       "    <tr>\n",
       "      <th>0</th>\n",
       "      <td>10</td>\n",
       "      <td>1290</td>\n",
       "    </tr>\n",
       "    <tr>\n",
       "      <th>1</th>\n",
       "      <td>100</td>\n",
       "      <td>1153</td>\n",
       "    </tr>\n",
       "    <tr>\n",
       "      <th>2</th>\n",
       "      <td>101</td>\n",
       "      <td>706</td>\n",
       "    </tr>\n",
       "    <tr>\n",
       "      <th>3</th>\n",
       "      <td>1010</td>\n",
       "      <td>2004</td>\n",
       "    </tr>\n",
       "    <tr>\n",
       "      <th>4</th>\n",
       "      <td>1011</td>\n",
       "      <td>1891</td>\n",
       "    </tr>\n",
       "  </tbody>\n",
       "</table>\n",
       "</div>"
      ],
      "text/plain": [
       "  DayHour  count\n",
       "0      10   1290\n",
       "1     100   1153\n",
       "2     101    706\n",
       "3    1010   2004\n",
       "4    1011   1891"
      ]
     },
     "execution_count": 95,
     "metadata": {},
     "output_type": "execute_result"
    }
   ],
   "source": [
    "# Lets have a look at our training data and visualize it to see if we can find any insights\n",
    "\n",
    "ts_train_df.head()"
   ]
  },
  {
   "cell_type": "code",
   "execution_count": 96,
   "metadata": {},
   "outputs": [
    {
     "data": {
      "image/png": "[encoded data removed]",
      "text/plain": [
       "<Figure size 1080x576 with 1 Axes>"
      ]
     },
     "metadata": {
      "needs_background": "light"
     },
     "output_type": "display_data"
    }
   ],
   "source": [
    "# Plotting \n",
    "plt.figure(figsize=(15,8))\n",
    "plt.tick_params(axis='x', which='both', bottom=False, top=False, labelbottom=False)\n",
    "plt.title('Number of Rides vs Date-Time')\n",
    "plot = sns.lineplot(data=ts_train_df, x='DayHour', y='count')\n",
    "plt.show(plot)"
   ]
  },
  {
   "cell_type": "markdown",
   "metadata": {},
   "source": [
    "##### Before we proceed with building any time-series model, we always check for data stationarity which tells us if our data is time dependent or not. One popular statistical test we can use is the Augmented Dickey-Fuller test. Our Null hypothesis here is that the data is stationary."
   ]
  },
  {
   "cell_type": "code",
   "execution_count": 97,
   "metadata": {},
   "outputs": [
    {
     "name": "stdout",
     "output_type": "stream",
     "text": [
      "ADF Statistic: -3.412541244637471\n",
      "Critical Values:\n",
      "\t1%: -3.457\n",
      "\t5%: -2.873\n",
      "\t10%: -2.573\n"
     ]
    }
   ],
   "source": [
    "X = ts_train_df[['count']]\n",
    "res = adfuller(X)\n",
    "print('ADF Statistic: {}' .format(res[0]))\n",
    "print('Critical Values:')\n",
    "for key, value in res[4].items():\n",
    "    print('\\t%s: %.3f' % (key, value))"
   ]
  },
  {
   "cell_type": "markdown",
   "metadata": {},
   "source": [
    "##### As we can see, for alpha value of 0.05 and 0.10, our Critical Value is more that our Test Statistic,  which means that we fail to reject the Null Hypothesis that our data is stationary. We can now go ahead with building our time series models."
   ]
  },
  {
   "cell_type": "markdown",
   "metadata": {},
   "source": [
    "##### ARIMA Models are very popular in demand forecasting, especaill in data with no trend and a high correlation with lags of itself. Lets go ahead and fit our data to an ARIMA model and use it to make predictions. Before we build an ARIMA Model, we always plot ACF (Auto Correlation Function) and PACF (Partial Auto Correlation Function) in order to understand if our model is an AR or MA Model and identify our p, d, q parameters."
   ]
  },
  {
   "cell_type": "code",
   "execution_count": 98,
   "metadata": {},
   "outputs": [
    {
     "data": {
      "image/png": "[encoded data removed]",
      "text/plain": [
       "<Figure size 432x288 with 1 Axes>"
      ]
     },
     "metadata": {
      "needs_background": "light"
     },
     "output_type": "display_data"
    }
   ],
   "source": [
    "# Plotting ACF\n",
    "\n",
    "acf_plot = plot_acf(X, lags=50)\n",
    "plt.show(acf_plot)"
   ]
  },
  {
   "cell_type": "code",
   "execution_count": 99,
   "metadata": {},
   "outputs": [
    {
     "data": {
      "image/png": "[encoded data removed]",
      "text/plain": [
       "<Figure size 432x288 with 1 Axes>"
      ]
     },
     "metadata": {
      "needs_background": "light"
     },
     "output_type": "display_data"
    }
   ],
   "source": [
    "# Plotting PACF\n",
    "\n",
    "pacf_plot = plot_pacf(X, lags=50)\n",
    "plt.show(pacf_plot)"
   ]
  },
  {
   "cell_type": "code",
   "execution_count": 100,
   "metadata": {},
   "outputs": [
    {
     "name": "stdout",
     "output_type": "stream",
     "text": [
      "                             ARIMA Model Results                              \n",
      "==============================================================================\n",
      "Dep. Variable:                D.count   No. Observations:                  260\n",
      "Model:                 ARIMA(1, 1, 0)   Log Likelihood               -2158.724\n",
      "Method:                       css-mle   S.D. of innovations            976.280\n",
      "Date:                Mon, 26 Oct 2020   AIC                           4323.448\n",
      "Time:                        16:59:23   BIC                           4334.130\n",
      "Sample:                             1   HQIC                          4327.743\n",
      "                                                                              \n",
      "=================================================================================\n",
      "                    coef    std err          z      P>|z|      [0.025      0.975]\n",
      "---------------------------------------------------------------------------------\n",
      "const             4.4509     49.583      0.090      0.928     -92.729     101.631\n",
      "ar.L1.D.count    -0.2220      0.060     -3.679      0.000      -0.340      -0.104\n",
      "                                    Roots                                    \n",
      "=============================================================================\n",
      "                  Real          Imaginary           Modulus         Frequency\n",
      "-----------------------------------------------------------------------------\n",
      "AR.1           -4.5050           +0.0000j            4.5050            0.5000\n",
      "-----------------------------------------------------------------------------\n"
     ]
    },
    {
     "data": {
      "image/png": "[encoded data removed]",
      "text/plain": [
       "<Figure size 432x288 with 1 Axes>"
      ]
     },
     "metadata": {
      "needs_background": "light"
     },
     "output_type": "display_data"
    },
    {
     "data": {
      "image/png": "[encoded data removed]",
      "text/plain": [
       "<Figure size 432x288 with 1 Axes>"
      ]
     },
     "metadata": {
      "needs_background": "light"
     },
     "output_type": "display_data"
    },
    {
     "name": "stdout",
     "output_type": "stream",
     "text": [
      "                 0\n",
      "count   260.000000\n",
      "mean     -0.088520\n",
      "std     978.164795\n",
      "min   -4973.365331\n",
      "25%    -309.060558\n",
      "50%     119.102676\n",
      "75%     437.430950\n",
      "max    2575.441820\n"
     ]
    }
   ],
   "source": [
    "# It is clear from the 2 plots that our data fits an AR Model with an order of 1. This is because \n",
    "# the PACF Function shows a sharp drop after 1 lag whereas the AR Function has a gradual decay.\n",
    "\n",
    "# Fitting an AR MODEL of Order 1\n",
    "model = ARIMA(X, order=(1,1,0))\n",
    "fit = model.fit(disp=0)\n",
    "print(fit.summary())\n",
    "\n",
    "# Plotting resuiduals\n",
    "res = pd.DataFrame(fit.resid)\n",
    "res.plot()\n",
    "plt.show()\n",
    "\n",
    "# Plotting residual distribution\n",
    "res.plot(kind='kde')\n",
    "plt.show()\n",
    "\n",
    "# Checking residual stats\n",
    "print(res.describe())"
   ]
  },
  {
   "cell_type": "markdown",
   "metadata": {},
   "source": [
    "##### Residual plot shows us that we have captured trend information well. \n",
    "##### Density plot shows that residuals are normally distributed around mean 0."
   ]
  },
  {
   "cell_type": "code",
   "execution_count": 101,
   "metadata": {},
   "outputs": [
    {
     "data": {
      "text/html": [
       "<div>\n",
       "<style scoped>\n",
       "    .dataframe tbody tr th:only-of-type {\n",
       "        vertical-align: middle;\n",
       "    }\n",
       "\n",
       "    .dataframe tbody tr th {\n",
       "        vertical-align: top;\n",
       "    }\n",
       "\n",
       "    .dataframe thead th {\n",
       "        text-align: right;\n",
       "    }\n",
       "</style>\n",
       "<table border=\"1\" class=\"dataframe\">\n",
       "  <thead>\n",
       "    <tr style=\"text-align: right;\">\n",
       "      <th></th>\n",
       "      <th>count</th>\n",
       "    </tr>\n",
       "  </thead>\n",
       "  <tbody>\n",
       "    <tr>\n",
       "      <th>0</th>\n",
       "      <td>2175</td>\n",
       "    </tr>\n",
       "    <tr>\n",
       "      <th>1</th>\n",
       "      <td>2024</td>\n",
       "    </tr>\n",
       "    <tr>\n",
       "      <th>2</th>\n",
       "      <td>2106</td>\n",
       "    </tr>\n",
       "    <tr>\n",
       "      <th>3</th>\n",
       "      <td>2716</td>\n",
       "    </tr>\n",
       "    <tr>\n",
       "      <th>4</th>\n",
       "      <td>3009</td>\n",
       "    </tr>\n",
       "  </tbody>\n",
       "</table>\n",
       "</div>"
      ],
      "text/plain": [
       "   count\n",
       "0   2175\n",
       "1   2024\n",
       "2   2106\n",
       "3   2716\n",
       "4   3009"
      ]
     },
     "execution_count": 101,
     "metadata": {},
     "output_type": "execute_result"
    }
   ],
   "source": [
    "# Using the predict function to make predictions for the next 12 hours.\n",
    "# First, lets look at our test data\n",
    "\n",
    "y = ts_test_df[['count']]\n",
    "y.head()"
   ]
  },
  {
   "cell_type": "code",
   "execution_count": 102,
   "metadata": {},
   "outputs": [
    {
     "name": "stdout",
     "output_type": "stream",
     "text": [
      "predicted=[2444.03794156], expected=2175\n",
      "predicted=[2224.46463471], expected=2024\n",
      "predicted=[2061.19643099], expected=2106\n",
      "predicted=[2091.62149739], expected=2716\n",
      "predicted=[2587.19216357], expected=3009\n",
      "predicted=[2952.22310968], expected=3517\n",
      "predicted=[3415.2672351], expected=4040\n",
      "predicted=[3937.94656776], expected=4564\n",
      "predicted=[4464.61575962], expected=4725\n",
      "predicted=[4705.670682], expected=4432\n",
      "predicted=[4510.17904862], expected=4048\n",
      "predicted=[4143.92809968], expected=3870\n",
      "MSE: 184574.47866415067\n"
     ]
    }
   ],
   "source": [
    "# Lets build an iterative model, where, every time we make a prediction for a test \n",
    "# observation k, we add that observation toour training set to predict test observation k+1 \n",
    "\n",
    "historic_data = [i[0] for i in X.values]\n",
    "pred = []\n",
    "for i in range(len(y)):\n",
    "    model = ARIMA(historic_data, order=(1,1,0))\n",
    "    model_fit = model.fit(disp=0)\n",
    "    forecast = model_fit.forecast()\n",
    "    y_pred = forecast[0]\n",
    "    pred.append(y_pred)\n",
    "    obs = y['count'][i]\n",
    "    historic_data.append(obs)\n",
    "    print('predicted={}, expected={}' .format(y_pred, obs))\n",
    "error = mean_squared_error(y, pred)\n",
    "print('MSE: {}' .format(error))"
   ]
  },
  {
   "cell_type": "code",
   "execution_count": 103,
   "metadata": {},
   "outputs": [
    {
     "data": {
      "image/png": "[encoded data removed]",
      "text/plain": [
       "<Figure size 432x288 with 1 Axes>"
      ]
     },
     "metadata": {
      "needs_background": "light"
     },
     "output_type": "display_data"
    }
   ],
   "source": [
    "# Plotting our Predictions vs Actuals\n",
    "plt.title('Predicted (Red) vs Actual (Blue)')\n",
    "plt.xlabel('Test Observation No.')\n",
    "plt.ylabel('No. of Rides')\n",
    "plt.plot(y)\n",
    "plt.plot(pred, color='red')\n",
    "plt.show()"
   ]
  },
  {
   "cell_type": "markdown",
   "metadata": {},
   "source": [
    "##### As we can see, our predictions work well at identifying change in demand but does tend to marginally under/over shoot with a few predictions. Overall, the model is a robust one (with RMSE 184,574) and helps us confidently forecast demand for Green Taxis within NY."
   ]
  },
  {
   "cell_type": "markdown",
   "metadata": {},
   "source": [
    "# -----------------------------------END-----------------------------------"
   ]
  }
 ],
 "metadata": {
  "kernelspec": {
   "display_name": "Python 3",
   "language": "python",
   "name": "python3"
  },
  "language_info": {
   "codemirror_mode": {
    "name": "ipython",
    "version": 3
   },
   "file_extension": ".py",
   "mimetype": "text/x-python",
   "name": "python",
   "nbconvert_exporter": "python",
   "pygments_lexer": "ipython3",
   "version": "3.7.6"
  }
 },
 "nbformat": 4,
 "nbformat_minor": 4
}
